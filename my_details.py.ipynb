{
 "cells": [
  {
   "cell_type": "code",
   "execution_count": 4,
   "id": "f7eb4c91",
   "metadata": {},
   "outputs": [
    {
     "name": "stdout",
     "output_type": "stream",
     "text": [
      "this is my name: mohammad showkath ali\n"
     ]
    }
   ],
   "source": [
    "name= \"mohammad showkath ali\"\n",
    "print (\"this is my name:\", name)\n"
   ]
  },
  {
   "cell_type": "code",
   "execution_count": 5,
   "id": "f2fbb48d",
   "metadata": {},
   "outputs": [
    {
     "name": "stdout",
     "output_type": "stream",
     "text": [
      "this is my age: 22\n"
     ]
    }
   ],
   "source": [
    "Age= \"22\"\n",
    "print (\"this is my age:\", Age)"
   ]
  },
  {
   "cell_type": "code",
   "execution_count": 6,
   "id": "8539890b",
   "metadata": {},
   "outputs": [
    {
     "name": "stdout",
     "output_type": "stream",
     "text": [
      "This is my gender: male\n"
     ]
    }
   ],
   "source": [
    "gender= \"male\"\n",
    "print (\"This is my gender:\", gender)\n"
   ]
  },
  {
   "cell_type": "code",
   "execution_count": 7,
   "id": "fb37f08f",
   "metadata": {},
   "outputs": [
    {
     "name": "stdout",
     "output_type": "stream",
     "text": [
      "this is my office location: gulabpura\n"
     ]
    }
   ],
   "source": [
    "location=  \"gulabpura\"\n",
    "print (\"this is my office location:\", location)\n"
   ]
  },
  {
   "cell_type": "code",
   "execution_count": 8,
   "id": "23d87c73",
   "metadata": {},
   "outputs": [
    {
     "name": "stdout",
     "output_type": "stream",
     "text": [
      "my hobbis are: ['playing cricket', 'reading books']\n"
     ]
    }
   ],
   "source": [
    "hobbis = [\"playing cricket\", \"reading books\"]\n",
    "print (\"my hobbis are:\", hobbis)\n"
   ]
  },
  {
   "cell_type": "code",
   "execution_count": 9,
   "id": "d4c355ca",
   "metadata": {},
   "outputs": [
    {
     "name": "stdout",
     "output_type": "stream",
     "text": [
      "my git repository name is: python classes\n"
     ]
    }
   ],
   "source": [
    "repo = \"python classes\"\n",
    "print (\"my git repository name is:\",repo)\n"
   ]
  },
  {
   "cell_type": "code",
   "execution_count": null,
   "id": "e0137c70",
   "metadata": {},
   "outputs": [],
   "source": []
  }
 ],
 "metadata": {
  "kernelspec": {
   "display_name": "Python 3 (ipykernel)",
   "language": "python",
   "name": "python3"
  },
  "language_info": {
   "codemirror_mode": {
    "name": "ipython",
    "version": 3
   },
   "file_extension": ".py",
   "mimetype": "text/x-python",
   "name": "python",
   "nbconvert_exporter": "python",
   "pygments_lexer": "ipython3",
   "version": "3.10.9"
  }
 },
 "nbformat": 4,
 "nbformat_minor": 5
}
