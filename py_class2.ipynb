{
 "cells": [
  {
   "cell_type": "code",
   "execution_count": 1,
   "id": "55275440",
   "metadata": {},
   "outputs": [
    {
     "name": "stdout",
     "output_type": "stream",
     "text": [
      "my name is: Mohammad showkath ali\n"
     ]
    }
   ],
   "source": [
    "name = (\"Mohammad showkath ali\")\n",
    "print (\"my name is:\",name)\n"
   ]
  },
  {
   "cell_type": "code",
   "execution_count": 2,
   "id": "62e84532",
   "metadata": {},
   "outputs": [
    {
     "name": "stdout",
     "output_type": "stream",
     "text": [
      "my age is: 22\n"
     ]
    }
   ],
   "source": [
    "age = 22\n",
    "print (\"my age is:\", age)"
   ]
  },
  {
   "cell_type": "code",
   "execution_count": 5,
   "id": "fe2990d3",
   "metadata": {},
   "outputs": [
    {
     "name": "stdout",
     "output_type": "stream",
     "text": [
      "my gender is: male\n"
     ]
    }
   ],
   "source": [
    "gender = \"male\"\n",
    "print (\"my gender is:\", gender)\n"
   ]
  },
  {
   "cell_type": "markdown",
   "id": "b4277d3b",
   "metadata": {},
   "source": [
    " location = \"gulabpura\"\n",
    "print (\"my office location is:\", location)"
   ]
  },
  {
   "cell_type": "code",
   "execution_count": 2,
   "id": "c8a40b58",
   "metadata": {},
   "outputs": [
    {
     "name": "stdout",
     "output_type": "stream",
     "text": [
      "my hobbies are: ['playing cricket', 'reading books']\n"
     ]
    }
   ],
   "source": [
    "hobbies = [\"playing cricket\",\"reading books\"]\n",
    "print (\"my hobbies are:\", hobbies)"
   ]
  },
  {
   "cell_type": "code",
   "execution_count": null,
   "id": "32bc3980",
   "metadata": {},
   "outputs": [],
   "source": [
    "#this is "
   ]
  }
 ],
 "metadata": {
  "kernelspec": {
   "display_name": "Python 3 (ipykernel)",
   "language": "python",
   "name": "python3"
  },
  "language_info": {
   "codemirror_mode": {
    "name": "ipython",
    "version": 3
   },
   "file_extension": ".py",
   "mimetype": "text/x-python",
   "name": "python",
   "nbconvert_exporter": "python",
   "pygments_lexer": "ipython3",
   "version": "3.10.9"
  }
 },
 "nbformat": 4,
 "nbformat_minor": 5
}
